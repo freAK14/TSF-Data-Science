{
 "cells": [
  {
   "cell_type": "markdown",
   "metadata": {
    "papermill": {
     "duration": 0.018314,
     "end_time": "2020-12-06T18:20:40.830655",
     "exception": false,
     "start_time": "2020-12-06T18:20:40.812341",
     "status": "completed"
    },
    "tags": []
   },
   "source": [
    "# Author : Akash Kothare"
   ]
  },
  {
   "cell_type": "markdown",
   "metadata": {
    "papermill": {
     "duration": 0.014553,
     "end_time": "2020-12-06T18:20:40.860669",
     "exception": false,
     "start_time": "2020-12-06T18:20:40.846116",
     "status": "completed"
    },
    "tags": []
   },
   "source": [
    "Data Science & Business Analytics Intern (Batch - Dec'20)"
   ]
  },
  {
   "cell_type": "markdown",
   "metadata": {
    "papermill": {
     "duration": 0.014506,
     "end_time": "2020-12-06T18:20:40.890233",
     "exception": false,
     "start_time": "2020-12-06T18:20:40.875727",
     "status": "completed"
    },
    "tags": []
   },
   "source": [
    "## Task 1: Prediction using Supervised ML\n"
   ]
  },
  {
   "cell_type": "markdown",
   "metadata": {
    "papermill": {
     "duration": 0.016902,
     "end_time": "2020-12-06T18:20:40.922986",
     "exception": false,
     "start_time": "2020-12-06T18:20:40.906084",
     "status": "completed"
    },
    "tags": []
   },
   "source": [
    "In this task, we have to develop a model to predict the percentage of marks a student is expected to score based on the number of hours he/she studied.\n",
    "This is implemented using Simple Linear Regression involving 2 variables."
   ]
  },
  {
   "cell_type": "markdown",
   "metadata": {
    "papermill": {
     "duration": 0.015926,
     "end_time": "2020-12-06T18:20:40.954701",
     "exception": false,
     "start_time": "2020-12-06T18:20:40.938775",
     "status": "completed"
    },
    "tags": []
   },
   "source": [
    "### Importing Libraries"
   ]
  },
  {
   "cell_type": "code",
   "execution_count": 1,
   "metadata": {
    "execution": {
     "iopub.execute_input": "2020-12-06T18:20:40.996362Z",
     "iopub.status.busy": "2020-12-06T18:20:40.995421Z",
     "iopub.status.idle": "2020-12-06T18:20:40.999187Z",
     "shell.execute_reply": "2020-12-06T18:20:40.998270Z"
    },
    "papermill": {
     "duration": 0.028129,
     "end_time": "2020-12-06T18:20:40.999341",
     "exception": false,
     "start_time": "2020-12-06T18:20:40.971212",
     "status": "completed"
    },
    "tags": []
   },
   "outputs": [],
   "source": [
    "import numpy as np\n",
    "import pandas as pd\n",
    "%matplotlib inline\n",
    "import matplotlib.pyplot as plt"
   ]
  },
  {
   "cell_type": "markdown",
   "metadata": {
    "papermill": {
     "duration": 0.017735,
     "end_time": "2020-12-06T18:20:41.034804",
     "exception": false,
     "start_time": "2020-12-06T18:20:41.017069",
     "status": "completed"
    },
    "tags": []
   },
   "source": [
    "### Loading Dataset"
   ]
  },
  {
   "cell_type": "code",
   "execution_count": 2,
   "metadata": {
    "execution": {
     "iopub.execute_input": "2020-12-06T18:20:41.076810Z",
     "iopub.status.busy": "2020-12-06T18:20:41.076082Z",
     "iopub.status.idle": "2020-12-06T18:20:41.098440Z",
     "shell.execute_reply": "2020-12-06T18:20:41.097474Z"
    },
    "papermill": {
     "duration": 0.045976,
     "end_time": "2020-12-06T18:20:41.098583",
     "exception": false,
     "start_time": "2020-12-06T18:20:41.052607",
     "status": "completed"
    },
    "tags": []
   },
   "outputs": [],
   "source": [
    "df = pd.read_csv('../input/tsf-datasets/student_scores.csv')"
   ]
  },
  {
   "cell_type": "code",
   "execution_count": 3,
   "metadata": {
    "execution": {
     "iopub.execute_input": "2020-12-06T18:20:41.147930Z",
     "iopub.status.busy": "2020-12-06T18:20:41.147191Z",
     "iopub.status.idle": "2020-12-06T18:20:41.155862Z",
     "shell.execute_reply": "2020-12-06T18:20:41.155246Z"
    },
    "papermill": {
     "duration": 0.041508,
     "end_time": "2020-12-06T18:20:41.156024",
     "exception": false,
     "start_time": "2020-12-06T18:20:41.114516",
     "status": "completed"
    },
    "tags": []
   },
   "outputs": [
    {
     "data": {
      "text/html": [
       "<div>\n",
       "<style scoped>\n",
       "    .dataframe tbody tr th:only-of-type {\n",
       "        vertical-align: middle;\n",
       "    }\n",
       "\n",
       "    .dataframe tbody tr th {\n",
       "        vertical-align: top;\n",
       "    }\n",
       "\n",
       "    .dataframe thead th {\n",
       "        text-align: right;\n",
       "    }\n",
       "</style>\n",
       "<table border=\"1\" class=\"dataframe\">\n",
       "  <thead>\n",
       "    <tr style=\"text-align: right;\">\n",
       "      <th></th>\n",
       "      <th>Hours</th>\n",
       "      <th>Scores</th>\n",
       "    </tr>\n",
       "  </thead>\n",
       "  <tbody>\n",
       "    <tr>\n",
       "      <th>0</th>\n",
       "      <td>2.5</td>\n",
       "      <td>21</td>\n",
       "    </tr>\n",
       "    <tr>\n",
       "      <th>1</th>\n",
       "      <td>5.1</td>\n",
       "      <td>47</td>\n",
       "    </tr>\n",
       "    <tr>\n",
       "      <th>2</th>\n",
       "      <td>3.2</td>\n",
       "      <td>27</td>\n",
       "    </tr>\n",
       "    <tr>\n",
       "      <th>3</th>\n",
       "      <td>8.5</td>\n",
       "      <td>75</td>\n",
       "    </tr>\n",
       "    <tr>\n",
       "      <th>4</th>\n",
       "      <td>3.5</td>\n",
       "      <td>30</td>\n",
       "    </tr>\n",
       "  </tbody>\n",
       "</table>\n",
       "</div>"
      ],
      "text/plain": [
       "   Hours  Scores\n",
       "0    2.5      21\n",
       "1    5.1      47\n",
       "2    3.2      27\n",
       "3    8.5      75\n",
       "4    3.5      30"
      ]
     },
     "execution_count": 3,
     "metadata": {},
     "output_type": "execute_result"
    }
   ],
   "source": [
    "df.head()"
   ]
  },
  {
   "cell_type": "code",
   "execution_count": 4,
   "metadata": {
    "execution": {
     "iopub.execute_input": "2020-12-06T18:20:41.199133Z",
     "iopub.status.busy": "2020-12-06T18:20:41.198337Z",
     "iopub.status.idle": "2020-12-06T18:20:41.212397Z",
     "shell.execute_reply": "2020-12-06T18:20:41.212872Z"
    },
    "papermill": {
     "duration": 0.040341,
     "end_time": "2020-12-06T18:20:41.213040",
     "exception": false,
     "start_time": "2020-12-06T18:20:41.172699",
     "status": "completed"
    },
    "tags": []
   },
   "outputs": [
    {
     "data": {
      "text/html": [
       "<div>\n",
       "<style scoped>\n",
       "    .dataframe tbody tr th:only-of-type {\n",
       "        vertical-align: middle;\n",
       "    }\n",
       "\n",
       "    .dataframe tbody tr th {\n",
       "        vertical-align: top;\n",
       "    }\n",
       "\n",
       "    .dataframe thead th {\n",
       "        text-align: right;\n",
       "    }\n",
       "</style>\n",
       "<table border=\"1\" class=\"dataframe\">\n",
       "  <thead>\n",
       "    <tr style=\"text-align: right;\">\n",
       "      <th></th>\n",
       "      <th>Hours</th>\n",
       "      <th>Scores</th>\n",
       "    </tr>\n",
       "  </thead>\n",
       "  <tbody>\n",
       "    <tr>\n",
       "      <th>count</th>\n",
       "      <td>25.000000</td>\n",
       "      <td>25.000000</td>\n",
       "    </tr>\n",
       "    <tr>\n",
       "      <th>mean</th>\n",
       "      <td>5.012000</td>\n",
       "      <td>51.480000</td>\n",
       "    </tr>\n",
       "    <tr>\n",
       "      <th>std</th>\n",
       "      <td>2.525094</td>\n",
       "      <td>25.286887</td>\n",
       "    </tr>\n",
       "    <tr>\n",
       "      <th>min</th>\n",
       "      <td>1.100000</td>\n",
       "      <td>17.000000</td>\n",
       "    </tr>\n",
       "    <tr>\n",
       "      <th>25%</th>\n",
       "      <td>2.700000</td>\n",
       "      <td>30.000000</td>\n",
       "    </tr>\n",
       "    <tr>\n",
       "      <th>50%</th>\n",
       "      <td>4.800000</td>\n",
       "      <td>47.000000</td>\n",
       "    </tr>\n",
       "    <tr>\n",
       "      <th>75%</th>\n",
       "      <td>7.400000</td>\n",
       "      <td>75.000000</td>\n",
       "    </tr>\n",
       "    <tr>\n",
       "      <th>max</th>\n",
       "      <td>9.200000</td>\n",
       "      <td>95.000000</td>\n",
       "    </tr>\n",
       "  </tbody>\n",
       "</table>\n",
       "</div>"
      ],
      "text/plain": [
       "           Hours     Scores\n",
       "count  25.000000  25.000000\n",
       "mean    5.012000  51.480000\n",
       "std     2.525094  25.286887\n",
       "min     1.100000  17.000000\n",
       "25%     2.700000  30.000000\n",
       "50%     4.800000  47.000000\n",
       "75%     7.400000  75.000000\n",
       "max     9.200000  95.000000"
      ]
     },
     "execution_count": 4,
     "metadata": {},
     "output_type": "execute_result"
    }
   ],
   "source": [
    "df.describe()"
   ]
  },
  {
   "cell_type": "markdown",
   "metadata": {
    "papermill": {
     "duration": 0.016408,
     "end_time": "2020-12-06T18:20:41.245719",
     "exception": false,
     "start_time": "2020-12-06T18:20:41.229311",
     "status": "completed"
    },
    "tags": []
   },
   "source": [
    "### Checking Null Values"
   ]
  },
  {
   "cell_type": "code",
   "execution_count": 5,
   "metadata": {
    "execution": {
     "iopub.execute_input": "2020-12-06T18:20:41.293051Z",
     "iopub.status.busy": "2020-12-06T18:20:41.292264Z",
     "iopub.status.idle": "2020-12-06T18:20:41.296530Z",
     "shell.execute_reply": "2020-12-06T18:20:41.295805Z"
    },
    "papermill": {
     "duration": 0.030675,
     "end_time": "2020-12-06T18:20:41.296653",
     "exception": false,
     "start_time": "2020-12-06T18:20:41.265978",
     "status": "completed"
    },
    "tags": []
   },
   "outputs": [
    {
     "data": {
      "text/plain": [
       "Hours     0\n",
       "Scores    0\n",
       "dtype: int64"
      ]
     },
     "execution_count": 5,
     "metadata": {},
     "output_type": "execute_result"
    }
   ],
   "source": [
    "df.isnull().sum()"
   ]
  },
  {
   "cell_type": "markdown",
   "metadata": {
    "papermill": {
     "duration": 0.016364,
     "end_time": "2020-12-06T18:20:41.330051",
     "exception": false,
     "start_time": "2020-12-06T18:20:41.313687",
     "status": "completed"
    },
    "tags": []
   },
   "source": [
    "No Null values found, so no need to clean this data."
   ]
  },
  {
   "cell_type": "markdown",
   "metadata": {
    "papermill": {
     "duration": 0.016958,
     "end_time": "2020-12-06T18:20:41.364256",
     "exception": false,
     "start_time": "2020-12-06T18:20:41.347298",
     "status": "completed"
    },
    "tags": []
   },
   "source": [
    "### Plotting the distribution of scores"
   ]
  },
  {
   "cell_type": "code",
   "execution_count": 6,
   "metadata": {
    "execution": {
     "iopub.execute_input": "2020-12-06T18:20:41.404759Z",
     "iopub.status.busy": "2020-12-06T18:20:41.404056Z",
     "iopub.status.idle": "2020-12-06T18:20:41.648419Z",
     "shell.execute_reply": "2020-12-06T18:20:41.647746Z"
    },
    "papermill": {
     "duration": 0.26676,
     "end_time": "2020-12-06T18:20:41.648538",
     "exception": false,
     "start_time": "2020-12-06T18:20:41.381778",
     "status": "completed"
    },
    "tags": []
   },
   "outputs": [
    {
     "data": {
      "image/png": "[encoded data removed]",
      "text/plain": [
       "<Figure size 432x288 with 1 Axes>"
      ]
     },
     "metadata": {
      "needs_background": "light"
     },
     "output_type": "display_data"
    }
   ],
   "source": [
    "plt.scatter(df['Hours'], df['Scores'], color = 'red')\n",
    "plt.title('Hours vs Percentage(%)')\n",
    "plt.xlabel('Hours Studied')\n",
    "plt.ylabel(\"Percentage Score(%)\")\n",
    "plt.show()"
   ]
  },
  {
   "cell_type": "markdown",
   "metadata": {
    "papermill": {
     "duration": 0.01716,
     "end_time": "2020-12-06T18:20:41.684550",
     "exception": false,
     "start_time": "2020-12-06T18:20:41.667390",
     "status": "completed"
    },
    "tags": []
   },
   "source": [
    "### Preparing the data"
   ]
  },
  {
   "cell_type": "code",
   "execution_count": 7,
   "metadata": {
    "execution": {
     "iopub.execute_input": "2020-12-06T18:20:41.726917Z",
     "iopub.status.busy": "2020-12-06T18:20:41.725911Z",
     "iopub.status.idle": "2020-12-06T18:20:41.728496Z",
     "shell.execute_reply": "2020-12-06T18:20:41.729180Z"
    },
    "papermill": {
     "duration": 0.027433,
     "end_time": "2020-12-06T18:20:41.729346",
     "exception": false,
     "start_time": "2020-12-06T18:20:41.701913",
     "status": "completed"
    },
    "tags": []
   },
   "outputs": [],
   "source": [
    "x = df.iloc[:, :-1].values\n",
    "y = df.iloc[:, 1].values"
   ]
  },
  {
   "cell_type": "markdown",
   "metadata": {
    "papermill": {
     "duration": 0.016934,
     "end_time": "2020-12-06T18:20:41.764457",
     "exception": false,
     "start_time": "2020-12-06T18:20:41.747523",
     "status": "completed"
    },
    "tags": []
   },
   "source": [
    "### Splitting the data into Training and Testing Sets"
   ]
  },
  {
   "cell_type": "code",
   "execution_count": 8,
   "metadata": {
    "execution": {
     "iopub.execute_input": "2020-12-06T18:20:41.805435Z",
     "iopub.status.busy": "2020-12-06T18:20:41.804707Z",
     "iopub.status.idle": "2020-12-06T18:20:42.936190Z",
     "shell.execute_reply": "2020-12-06T18:20:42.935417Z"
    },
    "papermill": {
     "duration": 1.15466,
     "end_time": "2020-12-06T18:20:42.936326",
     "exception": false,
     "start_time": "2020-12-06T18:20:41.781666",
     "status": "completed"
    },
    "tags": []
   },
   "outputs": [],
   "source": [
    "from sklearn.model_selection import train_test_split\n",
    "x_train, x_test, y_train, y_test = train_test_split(x, y, test_size = 0.25, random_state = 0)"
   ]
  },
  {
   "cell_type": "markdown",
   "metadata": {
    "papermill": {
     "duration": 0.017214,
     "end_time": "2020-12-06T18:20:42.971273",
     "exception": false,
     "start_time": "2020-12-06T18:20:42.954059",
     "status": "completed"
    },
    "tags": []
   },
   "source": [
    "### Training the model"
   ]
  },
  {
   "cell_type": "code",
   "execution_count": 9,
   "metadata": {
    "execution": {
     "iopub.execute_input": "2020-12-06T18:20:43.012135Z",
     "iopub.status.busy": "2020-12-06T18:20:43.011365Z",
     "iopub.status.idle": "2020-12-06T18:20:43.112644Z",
     "shell.execute_reply": "2020-12-06T18:20:43.112088Z"
    },
    "papermill": {
     "duration": 0.124023,
     "end_time": "2020-12-06T18:20:43.112772",
     "exception": false,
     "start_time": "2020-12-06T18:20:42.988749",
     "status": "completed"
    },
    "tags": []
   },
   "outputs": [],
   "source": [
    "from sklearn.linear_model import LinearRegression"
   ]
  },
  {
   "cell_type": "code",
   "execution_count": 10,
   "metadata": {
    "execution": {
     "iopub.execute_input": "2020-12-06T18:20:43.184054Z",
     "iopub.status.busy": "2020-12-06T18:20:43.182846Z",
     "iopub.status.idle": "2020-12-06T18:20:43.186738Z",
     "shell.execute_reply": "2020-12-06T18:20:43.187267Z"
    },
    "papermill": {
     "duration": 0.056624,
     "end_time": "2020-12-06T18:20:43.187416",
     "exception": false,
     "start_time": "2020-12-06T18:20:43.130792",
     "status": "completed"
    },
    "tags": []
   },
   "outputs": [
    {
     "name": "stdout",
     "output_type": "stream",
     "text": [
      "Model Trained!\n"
     ]
    }
   ],
   "source": [
    "model = LinearRegression()\n",
    "model.fit(x_train, y_train)\n",
    "print(\"Model Trained!\")"
   ]
  },
  {
   "cell_type": "markdown",
   "metadata": {
    "papermill": {
     "duration": 0.01777,
     "end_time": "2020-12-06T18:20:43.224059",
     "exception": false,
     "start_time": "2020-12-06T18:20:43.206289",
     "status": "completed"
    },
    "tags": []
   },
   "source": [
    "### Plotting the Regression Line"
   ]
  },
  {
   "cell_type": "code",
   "execution_count": 11,
   "metadata": {
    "execution": {
     "iopub.execute_input": "2020-12-06T18:20:43.273152Z",
     "iopub.status.busy": "2020-12-06T18:20:43.271922Z",
     "iopub.status.idle": "2020-12-06T18:20:43.406680Z",
     "shell.execute_reply": "2020-12-06T18:20:43.406076Z"
    },
    "papermill": {
     "duration": 0.163562,
     "end_time": "2020-12-06T18:20:43.406807",
     "exception": false,
     "start_time": "2020-12-06T18:20:43.243245",
     "status": "completed"
    },
    "tags": []
   },
   "outputs": [
    {
     "data": {
      "image/png": "[encoded data removed]",
      "text/plain": [
       "<Figure size 432x288 with 1 Axes>"
      ]
     },
     "metadata": {
      "needs_background": "light"
     },
     "output_type": "display_data"
    }
   ],
   "source": [
    "line = model.coef_*x + model.intercept_\n",
    "plt.scatter(x, y, color = 'red')\n",
    "plt.plot(x, line)\n",
    "plt.show()"
   ]
  },
  {
   "cell_type": "markdown",
   "metadata": {
    "papermill": {
     "duration": 0.018492,
     "end_time": "2020-12-06T18:20:43.444248",
     "exception": false,
     "start_time": "2020-12-06T18:20:43.425756",
     "status": "completed"
    },
    "tags": []
   },
   "source": [
    "### Making Predictions"
   ]
  },
  {
   "cell_type": "code",
   "execution_count": 12,
   "metadata": {
    "execution": {
     "iopub.execute_input": "2020-12-06T18:20:43.487615Z",
     "iopub.status.busy": "2020-12-06T18:20:43.486767Z",
     "iopub.status.idle": "2020-12-06T18:20:43.489851Z",
     "shell.execute_reply": "2020-12-06T18:20:43.490415Z"
    },
    "papermill": {
     "duration": 0.027794,
     "end_time": "2020-12-06T18:20:43.490560",
     "exception": false,
     "start_time": "2020-12-06T18:20:43.462766",
     "status": "completed"
    },
    "tags": []
   },
   "outputs": [
    {
     "name": "stdout",
     "output_type": "stream",
     "text": [
      "[[1.5]\n",
      " [3.2]\n",
      " [7.4]\n",
      " [2.5]\n",
      " [5.9]\n",
      " [3.8]\n",
      " [1.9]]\n"
     ]
    }
   ],
   "source": [
    "print(x_test)\n",
    "y_pred = model.predict(x_test)"
   ]
  },
  {
   "cell_type": "markdown",
   "metadata": {
    "papermill": {
     "duration": 0.018781,
     "end_time": "2020-12-06T18:20:43.529141",
     "exception": false,
     "start_time": "2020-12-06T18:20:43.510360",
     "status": "completed"
    },
    "tags": []
   },
   "source": [
    "### Comparing Actual vs Predicted"
   ]
  },
  {
   "cell_type": "code",
   "execution_count": 13,
   "metadata": {
    "execution": {
     "iopub.execute_input": "2020-12-06T18:20:43.587917Z",
     "iopub.status.busy": "2020-12-06T18:20:43.586962Z",
     "iopub.status.idle": "2020-12-06T18:20:43.592343Z",
     "shell.execute_reply": "2020-12-06T18:20:43.591721Z"
    },
    "papermill": {
     "duration": 0.042341,
     "end_time": "2020-12-06T18:20:43.592513",
     "exception": false,
     "start_time": "2020-12-06T18:20:43.550172",
     "status": "completed"
    },
    "tags": []
   },
   "outputs": [
    {
     "data": {
      "text/html": [
       "<div>\n",
       "<style scoped>\n",
       "    .dataframe tbody tr th:only-of-type {\n",
       "        vertical-align: middle;\n",
       "    }\n",
       "\n",
       "    .dataframe tbody tr th {\n",
       "        vertical-align: top;\n",
       "    }\n",
       "\n",
       "    .dataframe thead th {\n",
       "        text-align: right;\n",
       "    }\n",
       "</style>\n",
       "<table border=\"1\" class=\"dataframe\">\n",
       "  <thead>\n",
       "    <tr style=\"text-align: right;\">\n",
       "      <th></th>\n",
       "      <th>Actual</th>\n",
       "      <th>Predicted</th>\n",
       "    </tr>\n",
       "  </thead>\n",
       "  <tbody>\n",
       "    <tr>\n",
       "      <th>0</th>\n",
       "      <td>20</td>\n",
       "      <td>16.844722</td>\n",
       "    </tr>\n",
       "    <tr>\n",
       "      <th>1</th>\n",
       "      <td>27</td>\n",
       "      <td>33.745575</td>\n",
       "    </tr>\n",
       "    <tr>\n",
       "      <th>2</th>\n",
       "      <td>69</td>\n",
       "      <td>75.500624</td>\n",
       "    </tr>\n",
       "    <tr>\n",
       "      <th>3</th>\n",
       "      <td>30</td>\n",
       "      <td>26.786400</td>\n",
       "    </tr>\n",
       "    <tr>\n",
       "      <th>4</th>\n",
       "      <td>62</td>\n",
       "      <td>60.588106</td>\n",
       "    </tr>\n",
       "    <tr>\n",
       "      <th>5</th>\n",
       "      <td>35</td>\n",
       "      <td>39.710582</td>\n",
       "    </tr>\n",
       "    <tr>\n",
       "      <th>6</th>\n",
       "      <td>24</td>\n",
       "      <td>20.821393</td>\n",
       "    </tr>\n",
       "  </tbody>\n",
       "</table>\n",
       "</div>"
      ],
      "text/plain": [
       "   Actual  Predicted\n",
       "0      20  16.844722\n",
       "1      27  33.745575\n",
       "2      69  75.500624\n",
       "3      30  26.786400\n",
       "4      62  60.588106\n",
       "5      35  39.710582\n",
       "6      24  20.821393"
      ]
     },
     "execution_count": 13,
     "metadata": {},
     "output_type": "execute_result"
    }
   ],
   "source": [
    "df1 = pd.DataFrame({'Actual' : y_test, 'Predicted' : y_pred})\n",
    "df1"
   ]
  },
  {
   "cell_type": "markdown",
   "metadata": {
    "papermill": {
     "duration": 0.028915,
     "end_time": "2020-12-06T18:20:43.643711",
     "exception": false,
     "start_time": "2020-12-06T18:20:43.614796",
     "status": "completed"
    },
    "tags": []
   },
   "source": [
    "### Testing with custom data "
   ]
  },
  {
   "cell_type": "code",
   "execution_count": 14,
   "metadata": {
    "execution": {
     "iopub.execute_input": "2020-12-06T18:20:43.700253Z",
     "iopub.status.busy": "2020-12-06T18:20:43.698637Z",
     "iopub.status.idle": "2020-12-06T18:20:43.703225Z",
     "shell.execute_reply": "2020-12-06T18:20:43.703911Z"
    },
    "papermill": {
     "duration": 0.035537,
     "end_time": "2020-12-06T18:20:43.704120",
     "exception": false,
     "start_time": "2020-12-06T18:20:43.668583",
     "status": "completed"
    },
    "tags": []
   },
   "outputs": [
    {
     "name": "stdout",
     "output_type": "stream",
     "text": [
      "No. of Hours = [[2.9]]\n",
      "Predicted Score = 30.763071437667122\n"
     ]
    }
   ],
   "source": [
    "hrs = [[2.9]]\n",
    "predict = model.predict(hrs)\n",
    "print(\"No. of Hours = {}\".format(hrs))\n",
    "print(\"Predicted Score = {}\".format(predict[0]))"
   ]
  },
  {
   "cell_type": "markdown",
   "metadata": {
    "papermill": {
     "duration": 0.020587,
     "end_time": "2020-12-06T18:20:43.749100",
     "exception": false,
     "start_time": "2020-12-06T18:20:43.728513",
     "status": "completed"
    },
    "tags": []
   },
   "source": [
    "### Evaluating the Model"
   ]
  },
  {
   "cell_type": "code",
   "execution_count": 15,
   "metadata": {
    "execution": {
     "iopub.execute_input": "2020-12-06T18:20:43.797059Z",
     "iopub.status.busy": "2020-12-06T18:20:43.796244Z",
     "iopub.status.idle": "2020-12-06T18:20:43.800644Z",
     "shell.execute_reply": "2020-12-06T18:20:43.799747Z"
    },
    "papermill": {
     "duration": 0.031605,
     "end_time": "2020-12-06T18:20:43.800804",
     "exception": false,
     "start_time": "2020-12-06T18:20:43.769199",
     "status": "completed"
    },
    "tags": []
   },
   "outputs": [
    {
     "name": "stdout",
     "output_type": "stream",
     "text": [
      "Mean Absolute Error(MAE) : 4.130879918502486\n",
      "Mean Squared Error(MSE) : 20.33292367497997\n",
      "Root Mean Squared Error(RMSE) : 4.5092043283688055\n"
     ]
    }
   ],
   "source": [
    "from sklearn import metrics\n",
    "print('Mean Absolute Error(MAE) :', metrics.mean_absolute_error(y_test, y_pred))\n",
    "print('Mean Squared Error(MSE) :', metrics.mean_squared_error(y_test, y_pred))\n",
    "print('Root Mean Squared Error(RMSE) :', np.sqrt(metrics.mean_squared_error(y_test, y_pred)))"
   ]
  }
 ],
 "metadata": {
  "kernelspec": {
   "display_name": "Python 3",
   "language": "python",
   "name": "python3"
  },
  "language_info": {
   "codemirror_mode": {
    "name": "ipython",
    "version": 3
   },
   "file_extension": ".py",
   "mimetype": "text/x-python",
   "name": "python",
   "nbconvert_exporter": "python",
   "pygments_lexer": "ipython3",
   "version": "3.7.6"
  },
  "papermill": {
   "duration": 8.156387,
   "end_time": "2020-12-06T18:20:43.931374",
   "environment_variables": {},
   "exception": null,
   "input_path": "__notebook__.ipynb",
   "output_path": "__notebook__.ipynb",
   "parameters": {},
   "start_time": "2020-12-06T18:20:35.774987",
   "version": "2.1.0"
  }
 },
 "nbformat": 4,
 "nbformat_minor": 4
}
